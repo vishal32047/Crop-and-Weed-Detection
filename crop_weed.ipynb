import cv2
import numpy as np
import matplotlib.pyplot as plt

def detect_with_bboxes(image_path, bounding_boxes, class_names):
    img = cv2.imread(image_path)
    height, width, channels = img.shape

    colors = np.random.uniform(0, 255, size=(len(class_names), 3))
    font = cv2.FONT_HERSHEY_SIMPLEX

    for i, bbox in enumerate(bounding_boxes):
        x, y, w, h = bbox
        label = class_names[i]

        color = colors[i]
        cv2.rectangle(img, (x, y), (x + w, y + h), color, 2)
        cv2.putText(img, label, (x, y - 5), font, 0.5, color, 2)

    det = cv2.cvtColor(img, cv2.COLOR_BGR2RGB)
    plt.figure(figsize=(12, 8))
    plt.axis('off')
    plt.imshow(det)

    # Save the detected image
    output_path = 'output.jpg'
    det_bgr = cv2.cvtColor(det, cv2.COLOR_RGB2BGR)
    cv2.imwrite(output_path, det_bgr)

    return plt


